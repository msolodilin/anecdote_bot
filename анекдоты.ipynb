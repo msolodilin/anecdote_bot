{
 "cells": [
  {
   "cell_type": "code",
   "execution_count": 1,
   "outputs": [
    {
     "name": "stdout",
     "output_type": "stream",
     "text": [
      "Requirement already satisfied: pyTelegramBotAPI in c:\\users\\leftm\\appdata\\local\\programs\\python\\python310\\lib\\site-packages (4.10.0)\n",
      "Requirement already satisfied: requests in c:\\users\\leftm\\appdata\\local\\programs\\python\\python310\\lib\\site-packages (from pyTelegramBotAPI) (2.28.2)\n",
      "Requirement already satisfied: certifi>=2017.4.17 in c:\\users\\leftm\\appdata\\local\\programs\\python\\python310\\lib\\site-packages (from requests->pyTelegramBotAPI) (2022.12.7)\n",
      "Requirement already satisfied: idna<4,>=2.5 in c:\\users\\leftm\\appdata\\local\\programs\\python\\python310\\lib\\site-packages (from requests->pyTelegramBotAPI) (3.4)\n",
      "Requirement already satisfied: charset-normalizer<4,>=2 in c:\\users\\leftm\\appdata\\local\\programs\\python\\python310\\lib\\site-packages (from requests->pyTelegramBotAPI) (3.0.1)\n",
      "Requirement already satisfied: urllib3<1.27,>=1.21.1 in c:\\users\\leftm\\appdata\\local\\programs\\python\\python310\\lib\\site-packages (from requests->pyTelegramBotAPI) (1.26.14)\n",
      "Requirement already satisfied: transformers in c:\\users\\leftm\\appdata\\local\\programs\\python\\python310\\lib\\site-packages (4.27.1)\n",
      "Requirement already satisfied: packaging>=20.0 in c:\\users\\leftm\\appdata\\local\\programs\\python\\python310\\lib\\site-packages (from transformers) (23.0)\n",
      "Requirement already satisfied: filelock in c:\\users\\leftm\\appdata\\local\\programs\\python\\python310\\lib\\site-packages (from transformers) (3.9.0)\n",
      "Requirement already satisfied: numpy>=1.17 in c:\\users\\leftm\\appdata\\local\\programs\\python\\python310\\lib\\site-packages (from transformers) (1.24.2)\n",
      "Requirement already satisfied: huggingface-hub<1.0,>=0.11.0 in c:\\users\\leftm\\appdata\\local\\programs\\python\\python310\\lib\\site-packages (from transformers) (0.12.1)\n",
      "Requirement already satisfied: tqdm>=4.27 in c:\\users\\leftm\\appdata\\local\\programs\\python\\python310\\lib\\site-packages (from transformers) (4.64.1)\n",
      "Requirement already satisfied: pyyaml>=5.1 in c:\\users\\leftm\\appdata\\local\\programs\\python\\python310\\lib\\site-packages (from transformers) (6.0)\n",
      "Requirement already satisfied: tokenizers!=0.11.3,<0.14,>=0.11.1 in c:\\users\\leftm\\appdata\\local\\programs\\python\\python310\\lib\\site-packages (from transformers) (0.13.2)\n",
      "Requirement already satisfied: regex!=2019.12.17 in c:\\users\\leftm\\appdata\\local\\programs\\python\\python310\\lib\\site-packages (from transformers) (2022.10.31)\n",
      "Requirement already satisfied: requests in c:\\users\\leftm\\appdata\\local\\programs\\python\\python310\\lib\\site-packages (from transformers) (2.28.2)\n",
      "Requirement already satisfied: typing-extensions>=3.7.4.3 in c:\\users\\leftm\\appdata\\local\\programs\\python\\python310\\lib\\site-packages (from huggingface-hub<1.0,>=0.11.0->transformers) (4.5.0)\n",
      "Requirement already satisfied: colorama in c:\\users\\leftm\\appdata\\local\\programs\\python\\python310\\lib\\site-packages (from tqdm>=4.27->transformers) (0.4.6)\n",
      "Requirement already satisfied: certifi>=2017.4.17 in c:\\users\\leftm\\appdata\\local\\programs\\python\\python310\\lib\\site-packages (from requests->transformers) (2022.12.7)\n",
      "Requirement already satisfied: urllib3<1.27,>=1.21.1 in c:\\users\\leftm\\appdata\\local\\programs\\python\\python310\\lib\\site-packages (from requests->transformers) (1.26.14)\n",
      "Requirement already satisfied: charset-normalizer<4,>=2 in c:\\users\\leftm\\appdata\\local\\programs\\python\\python310\\lib\\site-packages (from requests->transformers) (3.0.1)\n",
      "Requirement already satisfied: idna<4,>=2.5 in c:\\users\\leftm\\appdata\\local\\programs\\python\\python310\\lib\\site-packages (from requests->transformers) (3.4)\n"
     ]
    }
   ],
   "source": [
    "!pip install pyTelegramBotAPI\n",
    "!pip install transformers"
   ],
   "metadata": {
    "collapsed": false
   }
  },
  {
   "cell_type": "code",
   "execution_count": 2,
   "outputs": [],
   "source": [
    "import pandas as pd\n",
    "from transformers import AutoTokenizer, AutoModelForCausalLM\n",
    "import telebot"
   ],
   "metadata": {
    "collapsed": false
   }
  },
  {
   "cell_type": "markdown",
   "source": [
    "### Подготовка данных\n",
    "Чистим файл с анекдотами от пустых строк и добавляем теги, на которые будет ориентироваться модель"
   ],
   "metadata": {
    "collapsed": false
   }
  },
  {
   "cell_type": "code",
   "execution_count": 3,
   "outputs": [],
   "source": [
    "# Откроем исходный файл и избавимся от пустых строк\n",
    "\n",
    "anek_path = r\"C:\\Users\\*****\\Downloads\\Telegram Desktop\\anek.txt\"\n",
    "l = []\n",
    "\n",
    "with open(anek_path, 'r', encoding=\"utf-8\") as anek_text:\n",
    "    for line in anek_text:\n",
    "        if line.strip():\n",
    "            l.append(line.strip())"
   ],
   "metadata": {
    "collapsed": false
   }
  },
  {
   "cell_type": "code",
   "execution_count": 4,
   "outputs": [
    {
     "data": {
      "text/plain": "                                               clean_text\n0       Только заметил, что слово \"п@рно\" набирается с...\n1       Друзья мои, чтобы соответствовать вам, я готов...\n2       - Люся, ты все еще хранишь мой подарок?- Да.- ...\n3       - А вот скажи честно, ты во сне храпишь?- Поня...\n4       Поссорилась с мужем. Пока он спал, я мысленно ...\n...                                                   ...\n124160  Последним раскрытым громким преступлением в Ки...\n124161  Если бесконечное количество российских футболи...\n124162  На чемпионат мира по футболу от России нужно Ю...\n124163  В целях профилактики от всего весной следует е...\n124164  На моих глазах как-то две девушки затаскивали ...\n\n[124165 rows x 1 columns]",
      "text/html": "<div>\n<style scoped>\n    .dataframe tbody tr th:only-of-type {\n        vertical-align: middle;\n    }\n\n    .dataframe tbody tr th {\n        vertical-align: top;\n    }\n\n    .dataframe thead th {\n        text-align: right;\n    }\n</style>\n<table border=\"1\" class=\"dataframe\">\n  <thead>\n    <tr style=\"text-align: right;\">\n      <th></th>\n      <th>clean_text</th>\n    </tr>\n  </thead>\n  <tbody>\n    <tr>\n      <th>0</th>\n      <td>Только заметил, что слово \"п@рно\" набирается с...</td>\n    </tr>\n    <tr>\n      <th>1</th>\n      <td>Друзья мои, чтобы соответствовать вам, я готов...</td>\n    </tr>\n    <tr>\n      <th>2</th>\n      <td>- Люся, ты все еще хранишь мой подарок?- Да.- ...</td>\n    </tr>\n    <tr>\n      <th>3</th>\n      <td>- А вот скажи честно, ты во сне храпишь?- Поня...</td>\n    </tr>\n    <tr>\n      <th>4</th>\n      <td>Поссорилась с мужем. Пока он спал, я мысленно ...</td>\n    </tr>\n    <tr>\n      <th>...</th>\n      <td>...</td>\n    </tr>\n    <tr>\n      <th>124160</th>\n      <td>Последним раскрытым громким преступлением в Ки...</td>\n    </tr>\n    <tr>\n      <th>124161</th>\n      <td>Если бесконечное количество российских футболи...</td>\n    </tr>\n    <tr>\n      <th>124162</th>\n      <td>На чемпионат мира по футболу от России нужно Ю...</td>\n    </tr>\n    <tr>\n      <th>124163</th>\n      <td>В целях профилактики от всего весной следует е...</td>\n    </tr>\n    <tr>\n      <th>124164</th>\n      <td>На моих глазах как-то две девушки затаскивали ...</td>\n    </tr>\n  </tbody>\n</table>\n<p>124165 rows × 1 columns</p>\n</div>"
     },
     "execution_count": 4,
     "metadata": {},
     "output_type": "execute_result"
    }
   ],
   "source": [
    "# Создадим датафрейм на основе получившегося списка анекдотов\n",
    "\n",
    "df = pd.DataFrame(l)\n",
    "df.rename(columns={ df.columns[0]: \"clean_text\"}, inplace = True)\n",
    "df"
   ],
   "metadata": {
    "collapsed": false
   }
  },
  {
   "cell_type": "code",
   "execution_count": 5,
   "metadata": {
    "id": "LbKS5ofuJfpC"
   },
   "outputs": [],
   "source": [
    "# Добавим к каждому анекдоту тег окончания текста, чтобы модель понимала где обычно они заканчиваются\n",
    "\n",
    "texts = '<|endoftext|>'.join([text.replace('\\n\\n\\n\\n','') for text in df['clean_text']])"
   ],
   "id": "LbKS5ofuJfpC"
  },
  {
   "cell_type": "code",
   "execution_count": 6,
   "metadata": {
    "id": "oSj_vxYeKX3E",
    "colab": {
     "base_uri": "https://localhost:8080/",
     "height": 105
    },
    "outputId": "6404ab67-ea0e-432d-869a-983244ade04a"
   },
   "outputs": [
    {
     "data": {
      "text/plain": "'Только заметил, что слово \"п@рно\" набирается самими центральными клавишами. Как все продумано, блин!<|endoftext|>Друзья мои, чтобы соответствовать вам, я готов сделать над собой усилие и стать лучше. Но тогда и вы станьте немного хуже!<|endoftext|>- Люся, ты все еще хранишь мой подарок?- Да.- Я думал, ты выкинула все, что со мной связано.- Плюшевый мишка не виноват, что ты ебл@н...<|endoftext|>- А вот скажи честно, ты во сне храпишь?- Понятие не имею, вроде, нет. От собственного храпа по крайней мере еще ни разу не просыпался.- Ну, так у жены спроси.- А жена и подавно не знает. У нее странная привычка после замужества возникла: как спать ложится - беруши вставляет.<|endoftext|>Поссорилась с мужем. Пока он спал, я мысленно развелась с ним, поделила имущество, переехала, поняла, что жить без него не могу, дала последний шанс, вернулась. В итоге, ложусь спать уже счастливой женщиной.<|endoftext|>Если тебя посещают мысли о смерти - это еще полбеды. Беда - это когда смерть посещают мысли о '"
     },
     "execution_count": 6,
     "metadata": {},
     "output_type": "execute_result"
    }
   ],
   "source": [
    "# Проверим, как выглядит текст после изменений. Возьмем первые 1000 символов:\n",
    "\n",
    "texts[:1000]"
   ],
   "id": "oSj_vxYeKX3E"
  },
  {
   "cell_type": "code",
   "execution_count": 7,
   "metadata": {
    "id": "ApJkSmmBKeQs"
   },
   "outputs": [],
   "source": [
    "# Сохраним наши новые данные в файл\n",
    "\n",
    "texts_path = 'texts_dataset.txt'\n",
    "with open(texts_path, \"w\", encoding='utf-8') as d:\n",
    "    d.write(texts)"
   ],
   "id": "ApJkSmmBKeQs"
  },
  {
   "cell_type": "code",
   "execution_count": 8,
   "metadata": {
    "id": "bR0hyE2Qf9BA",
    "colab": {
     "base_uri": "https://localhost:8080/",
     "height": 105
    },
    "outputId": "1ecf0693-4260-4c9a-b190-7721027e3296"
   },
   "outputs": [
    {
     "data": {
      "text/plain": "'Только заметил, что слово \"п@рно\" набирается самими центральными клавишами. Как все продумано, блин!<|endoftext|>Друзья мои, чтобы соответствовать вам, я готов сделать над собой усилие и стать лучше. Но тогда и вы станьте немного хуже!<|endoftext|>- Люся, ты все еще хранишь мой подарок?- Да.- Я думал, ты выкинула все, что со мной связано.- Плюшевый мишка не виноват, что ты ебл@н...<|endoftext|>- А вот скажи честно, ты во сне храпишь?- Понятие не имею, вроде, нет. От собственного храпа по крайней мере еще ни разу не просыпался.- Ну, так у жены спроси.- А жена и подавно не знает. У нее странная привычка после замужества возникла: как спать ложится - беруши вставляет.<|endoftext|>Поссорилась с мужем. Пока он спал, я мысленно развелась с ним, поделила имущество, переехала, поняла, что жить без него не могу, дала последний шанс, вернулась. В итоге, ложусь спать уже счастливой женщиной.<|endoftext|>Если тебя посещают мысли о смерти - это еще полбеды. Беда - это когда смерть посещают мысли о '"
     },
     "execution_count": 8,
     "metadata": {},
     "output_type": "execute_result"
    }
   ],
   "source": [
    "# Посмотрим, что они корректно сохранились\n",
    "\n",
    "with open(texts_path, \"r\", encoding='utf-8') as d:\n",
    "  opened_texts = d.read()\n",
    "\n",
    "opened_texts[:1000]"
   ],
   "id": "bR0hyE2Qf9BA"
  },
  {
   "cell_type": "markdown",
   "metadata": {
    "id": "2K2sFnJpkGcS"
   },
   "source": [
    "### Запускаем обучение модели\n",
    "Поскольку бесплатный тариф Google Colab ограничивает доступ к GPU-ресурсам (мы попробовали прогнать medium и large в 3 эпохи, и оба раза заканчивалось хранилище или допустимое время запуска Колаба, и больше нам вообще не дают подключиться к GPU-рантайму), было принято решение обучить модель на своём домашнем ПК. Наша RTX 2060 обладает только 6 ГБ видеопамяти, которых ей тоже не хватает для работы с medium и large, поэтому мы вынуждены пользоваться моделью rugpt3small_based_on_gpt2. Тем не менее итоговые веса все равно позволяют нормально обучить модель в ячейках ниже, и она в результате выдаёт достаточно правдоподобные анекдоты.\n"
   ],
   "id": "2K2sFnJpkGcS"
  },
  {
   "cell_type": "code",
   "execution_count": 10,
   "outputs": [],
   "source": [
    "# Если планируется воспроизведение, на RTX 2060 6GB три эпохи занимают около часа, вес выходной папки - около 30 ГБ\n",
    "\n",
    "%%time\n",
    "!set PYTHONPATH=%PYTHONPATH%;D:\\finetuned\\ru-gpts\n",
    "!set CUDA_VISIBLE_DEVICES=0 & python D:\\finetuned\\ru-gpts\\pretrain_transformers.py \\\n",
    "    --output_dir=model_out \\\n",
    "    --model_type=gpt2 \\\n",
    "    --model_name_or_path=D:\\sberbank-ai \\\n",
    "    --do_train \\\n",
    "    --train_data_file=D:\\finetuned\\texts_dataset.txt \\\n",
    "    --per_gpu_train_batch_size 1 \\\n",
    "    --gradient_accumulation_steps 1 \\\n",
    "    --num_train_epochs 3 \\\n",
    "    --block_size 1024 \\\n",
    "    --overwrite_output_dir"
   ],
   "metadata": {
    "collapsed": false
   }
  },
  {
   "cell_type": "code",
   "execution_count": 9,
   "metadata": {
    "id": "mbplNBxAC4JP"
   },
   "outputs": [],
   "source": [
    "finetuned_path = 'D:/finetuned/model_out'\n",
    "model_name_or_path = finetuned_path # Указываем путь до папки с нашей моделью\n",
    "tokenizer = AutoTokenizer.from_pretrained(model_name_or_path) # Активируем токенизатор\n",
    "gpt = AutoModelForCausalLM.from_pretrained(model_name_or_path) # Активируем модель"
   ],
   "id": "mbplNBxAC4JP"
  },
  {
   "cell_type": "markdown",
   "metadata": {
    "id": "luPy06Ixr1dp"
   },
   "source": [
    "### Генерируем текст\n",
    "Аргументы для обучения подобраны вручную путём проб и субъективной оценки качества выдаваемых анекдотов. В нынешнем виде анекдоты получаются наиболее складными и натуральными, а иногда даже действительно смешными :)"
   ],
   "id": "luPy06Ixr1dp"
  },
  {
   "cell_type": "code",
   "execution_count": 11,
   "metadata": {
    "id": "RYi4AagVDJRu",
    "colab": {
     "base_uri": "https://localhost:8080/"
    },
    "outputId": "5573b904-c885-4911-e9e4-70ee4ebadb43"
   },
   "outputs": [
    {
     "name": "stderr",
     "output_type": "stream",
     "text": [
      "The attention mask and the pad token id were not set. As a consequence, you may observe unexpected behavior. Please pass your input's `attention_mask` to obtain reliable results.\n",
      "Setting `pad_token_id` to `eos_token_id`:50256 for open-end generation.\n"
     ]
    },
    {
     "name": "stdout",
     "output_type": "stream",
     "text": [
      "0: Студенты ВШЭ, получив в подарок от Деда Мороза волшебную палочку, на следующий день пошли в военкомат.\n",
      "\n"
     ]
    }
   ],
   "source": [
    "prompt = 'Студенты ВШЭ' # Начальные слова, которые подаются модели. С них и будет начинаться генерируемый текст\n",
    "input_ids = tokenizer.encode(prompt, return_tensors=\"pt\") # С помощью токенизатора преобразуем начальные слова в формат для модели\n",
    "\n",
    "generated_text_samples = gpt.generate(\n",
    "    input_ids, \n",
    "    max_length=100,\n",
    "    num_return_sequences=1,\n",
    "    num_beams=2,\n",
    "    no_repeat_ngram_size=3,\n",
    "    repetition_penalty=1.5,\n",
    "    top_p=1.,\n",
    "    temperature=0.8,\n",
    "    do_sample=True,\n",
    "    top_k=125,\n",
    "    early_stopping=True\n",
    ")\n",
    "\n",
    "# Выводим результат генерации\n",
    "for i, beam in enumerate(generated_text_samples):\n",
    "  print(\"{}: {}\".format(i,tokenizer.decode(beam, skip_special_tokens=False).split('<|endoftext|>')[0]))\n",
    "  print()"
   ],
   "id": "RYi4AagVDJRu"
  },
  {
   "cell_type": "markdown",
   "metadata": {
    "id": "9nwvrDNrgj-a"
   },
   "source": [
    "### Создаем ТГ Бота\n",
    "Бот получает от пользователя промпт, на основе которого генерирует анекдот и отправляет его в чат"
   ],
   "id": "9nwvrDNrgj-a"
  },
  {
   "cell_type": "code",
   "execution_count": 12,
   "metadata": {
    "id": "V0KZXthrPqni",
    "colab": {
     "base_uri": "https://localhost:8080/"
    },
    "outputId": "630c0bf3-8dcd-4d8e-a38e-0336cfb2c42c"
   },
   "outputs": [],
   "source": [
    "def model(text, mo):\n",
    "  input_ids = tokenizer.encode(text, return_tensors=\"pt\")\n",
    "\n",
    "  generated_text_samples = mo.generate(\n",
    "      input_ids, \n",
    "      max_length=70,\n",
    "      num_return_sequences=1,\n",
    "      num_beams=2,\n",
    "      no_repeat_ngram_size=3,\n",
    "      repetition_penalty=1.5,\n",
    "      top_p=1.,\n",
    "      temperature=0.8,\n",
    "      do_sample=True,\n",
    "      top_k=125,\n",
    "      early_stopping=True\n",
    "  )\n",
    "  return tokenizer.decode(generated_text_samples[0], skip_special_tokens=False).split('<|endoftext|>')[0]\n",
    "\n",
    "teletoken = '' # Вводим наш токен\n",
    "bot = telebot.TeleBot(teletoken)\n",
    "\n",
    "@bot.message_handler(commands=[\"start\"])\n",
    "def start(m, res=False):\n",
    "    bot.send_message(m.chat.id, 'Пожалуйста, напишите начало анекдота')\n",
    "\n",
    "@bot.message_handler(content_types=[\"text\"])\n",
    "def handle_text(message):\n",
    "    bot.send_message(message.chat.id, model(message.text, gpt))\n",
    "    bot.send_message(message.chat.id, 'Если хотите продолжить, напишите, пожалуйста, начало следующего анекдота')\n",
    "\n",
    "bot.polling(none_stop=True, interval=0)"
   ],
   "id": "V0KZXthrPqni"
  }
 ],
 "metadata": {
  "colab": {
   "provenance": []
  },
  "gpuClass": "standard",
  "kernelspec": {
   "display_name": "Python 3 (ipykernel)",
   "language": "python",
   "name": "python3"
  },
  "language_info": {
   "codemirror_mode": {
    "name": "ipython",
    "version": 3
   },
   "file_extension": ".py",
   "mimetype": "text/x-python",
   "name": "python",
   "nbconvert_exporter": "python",
   "pygments_lexer": "ipython3",
   "version": "3.7.10"
  },
  "accelerator": "GPU"
 },
 "nbformat": 4,
 "nbformat_minor": 5
}
